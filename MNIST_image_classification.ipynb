{
 "cells": [
  {
   "cell_type": "markdown",
   "metadata": {},
   "source": [
    "# MNIST image classification using Neural network\n",
    "\n",
    "*Objective* : Create a neural network to classify the famous mnist images, so that\n",
    "the internals could be understood. Creating something from scratch, although time-consuming \n",
    "can provide more insight and more knowledge on how things work.\n",
    "\n",
    "Therefore this effort will involve only usage of basic libraries. \n",
    "\n",
    "The core of the network is present in network.py which is created while reading through \n",
    "Michael Nielsen's excellent book [Neural networks and deep learning][book_url]. Some of the utilities are present in the utility module.\n",
    "\n",
    "[book_url]: http://neuralnetworksanddeeplearning.com/index.html\n",
    "\n",
    "**TODO**\n",
    "1. Use different activation functions : Relu, elu, ...\n",
    "2. Use dropouts\n",
    "3. Batch normalization\n",
    "4. Use Kaiming initialization\n",
    "5. Deeper architecture\n",
    "6. SGDR\n",
    "7. Learning rate finder\n"
   ]
  },
  {
   "cell_type": "markdown",
   "metadata": {},
   "source": [
    "## Imports"
   ]
  },
  {
   "cell_type": "code",
   "execution_count": 1,
   "metadata": {},
   "outputs": [],
   "source": [
    "import numpy as np\n",
    "import random\n",
    "import mnist_loader\n",
    "import network \n",
    "from utilities import utility\n",
    "\n",
    "%matplotlib inline"
   ]
  },
  {
   "cell_type": "markdown",
   "metadata": {},
   "source": [
    "## Data loading "
   ]
  },
  {
   "cell_type": "code",
   "execution_count": 2,
   "metadata": {},
   "outputs": [
    {
     "name": "stdout",
     "output_type": "stream",
     "text": [
      "training data size: 50000\n",
      "validation data size: 10000\n",
      "test data size: 10000\n"
     ]
    }
   ],
   "source": [
    "training_data, validation_data, test_data = mnist_loader.load_data_wrapper()\n",
    "print(f'training data size: {len(training_data)}')\n",
    "print(f'validation data size: {len(validation_data)}')\n",
    "print(f'test data size: {len(test_data)}')"
   ]
  },
  {
   "cell_type": "markdown",
   "metadata": {},
   "source": [
    "# Training the neural network"
   ]
  },
  {
   "cell_type": "markdown",
   "metadata": {},
   "source": [
    "## Model Architecture\n",
    "\n",
    "* Input Layer size : 784 (28 X 28)\n",
    "* Hidden layer size : 1 [30] \n",
    "* Output layer : 10\n",
    "\n",
    "* Activations used : sigmoid\n",
    "* Cost/Loss function : Mean squared error\n",
    "* Optimizer used : None"
   ]
  },
  {
   "cell_type": "markdown",
   "metadata": {},
   "source": [
    "First we will begin off with a very basic neural network with 1 hidden layer."
   ]
  },
  {
   "cell_type": "code",
   "execution_count": 3,
   "metadata": {},
   "outputs": [
    {
     "name": "stdout",
     "output_type": "stream",
     "text": [
      "Epoch: 0, train err: 0.9085 val err: 0.9132\n",
      "Epoch: 1, train err: 0.9276 val err: 0.9316\n",
      "Epoch: 2, train err: 0.9345 val err: 0.9367\n",
      "Epoch: 3, train err: 0.9379 val err: 0.9379\n",
      "Epoch: 4, train err: 0.9466 val err: 0.9431\n",
      "Epoch: 5, train err: 0.9486 val err: 0.9444\n",
      "Epoch: 6, train err: 0.9519 val err: 0.9440\n",
      "Epoch: 7, train err: 0.9500 val err: 0.9428\n",
      "Epoch: 8, train err: 0.9539 val err: 0.9484\n",
      "Epoch: 9, train err: 0.9584 val err: 0.9482\n",
      "Epoch: 10, train err: 0.9595 val err: 0.9485\n",
      "Epoch: 11, train err: 0.9605 val err: 0.9488\n",
      "Epoch: 12, train err: 0.9618 val err: 0.9474\n",
      "Epoch: 13, train err: 0.9648 val err: 0.9500\n",
      "Epoch: 14, train err: 0.9643 val err: 0.9520\n",
      "Epoch: 15, train err: 0.9650 val err: 0.9522\n",
      "Epoch: 16, train err: 0.9665 val err: 0.9543\n",
      "Epoch: 17, train err: 0.9673 val err: 0.9515\n",
      "Epoch: 18, train err: 0.9669 val err: 0.9522\n",
      "Epoch: 19, train err: 0.9692 val err: 0.9539\n",
      "Done\n"
     ]
    }
   ],
   "source": [
    "net = network.Network([784, 30, 10])\n",
    "net.SGD(training_data, epochs=20, mini_batch_size=10, eta=3.0, val_data=validation_data)"
   ]
  },
  {
   "cell_type": "markdown",
   "metadata": {},
   "source": [
    "Let's see how our model fares on the test data"
   ]
  },
  {
   "cell_type": "code",
   "execution_count": 4,
   "metadata": {},
   "outputs": [
    {
     "data": {
      "text/plain": [
       "0.9509"
      ]
     },
     "execution_count": 4,
     "metadata": {},
     "output_type": "execute_result"
    }
   ],
   "source": [
    "net.evaluate(test_data=test_data)"
   ]
  },
  {
   "cell_type": "markdown",
   "metadata": {},
   "source": [
    "Not a great model, but it's not too bad for a first attempt.\n",
    "Let's save this model so that we could reuse this one at a later time."
   ]
  },
  {
   "cell_type": "code",
   "execution_count": 5,
   "metadata": {},
   "outputs": [],
   "source": [
    "net.save_model('model_v1.json')"
   ]
  },
  {
   "cell_type": "markdown",
   "metadata": {},
   "source": [
    "# Visualization"
   ]
  },
  {
   "cell_type": "markdown",
   "metadata": {},
   "source": [
    "Let's take a look at some of the images we misclassified"
   ]
  },
  {
   "cell_type": "code",
   "execution_count": 6,
   "metadata": {},
   "outputs": [],
   "source": [
    "img_data, title_data = net.getn_misclassified(test_data=test_data)\n",
    "def plot_gallery(img_data, title_data, n_row=1, n_col=5):\n",
    "    grid_size = n_row * n_col\n",
    "    rand = random.randint(0, len(img_data))\n",
    "    utility.plot_gallery(img_data[rand:rand+grid_size], title_data[rand:rand+grid_size], n_row=n_row, n_col=n_col)"
   ]
  },
  {
   "cell_type": "code",
   "execution_count": 7,
   "metadata": {},
   "outputs": [
    {
     "data": {
      "image/png": "[encoded data removed]",
      "text/plain": [
       "<Figure size 648x172.8 with 5 Axes>"
      ]
     },
     "metadata": {},
     "output_type": "display_data"
    }
   ],
   "source": [
    "plot_gallery(img_data, title_data)"
   ]
  },
  {
   "cell_type": "markdown",
   "metadata": {},
   "source": [
    "Hmmm these don't particularly look very hard to distinguish. Let's hope in the next iteration the model would be able to classify better."
   ]
  }
 ],
 "metadata": {
  "kernelspec": {
   "display_name": "Python 3",
   "language": "python",
   "name": "python3"
  },
  "language_info": {
   "codemirror_mode": {
    "name": "ipython",
    "version": 3
   },
   "file_extension": ".py",
   "mimetype": "text/x-python",
   "name": "python",
   "nbconvert_exporter": "python",
   "pygments_lexer": "ipython3",
   "version": "3.6.5"
  },
  "toc": {
   "base_numbering": 1,
   "nav_menu": {},
   "number_sections": true,
   "sideBar": true,
   "skip_h1_title": false,
   "title_cell": "Table of Contents",
   "title_sidebar": "Contents",
   "toc_cell": false,
   "toc_position": {},
   "toc_section_display": true,
   "toc_window_display": false
  }
 },
 "nbformat": 4,
 "nbformat_minor": 2
}
